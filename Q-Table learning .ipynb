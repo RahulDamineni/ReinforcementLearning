{
 "cells": [
  {
   "cell_type": "markdown",
   "metadata": {},
   "source": [
    "<h1><center>Fundamentals of Q learning "
   ]
  },
  {
   "cell_type": "markdown",
   "metadata": {},
   "source": [
    "## Before we start, let's learn about gym\n",
    "\n",
    "    * Gym is an OpenAI platform which provides easy access to various environments. \n",
    "    * Environment (of a game) will have attributes such as `action_space`, `observation_space` & `reward_range`\n",
    "    * We use `step()` method to advance environment when a particular action is chosen\n",
    "    * `step()` returns four outputs; observation, reward, done, info\n",
    "        > Observation is `Discrete`/ `Box` object which gives info about what state env is in currently \n",
    "        > Reward is what we achieved after action\n",
    "        > Done will be true if the env reaches its end state\n",
    "        > Info contains metadata\n",
    "        \n",
    "Read more here: https://gym.openai.com/docs \n"
   ]
  },
  {
   "cell_type": "markdown",
   "metadata": {},
   "source": [
    "____________________________"
   ]
  },
  {
   "cell_type": "markdown",
   "metadata": {},
   "source": [
    "## Now a brief about RL \n",
    "\n",
    "Reinforced Learning is all about learning what chain of actions to follow to go through a certain chain of states in order to reach a final state in a way that maximizes our **total** reward\n",
    "\n",
    "### Terminology\n",
    "1. Environment\n",
    "2. Agent\n",
    "3. State\n",
    "4. Observation\n",
    "5. Action\n",
    "6. Reward\n",
    "7. Environment modelling by an Agent\n",
    "8. Policy of an Agent\n",
    "9. Value function of an Agent\n",
    "    * Value function for a fixed action ($\\pi$) for each state $(S)$ : $Q_{\\pi}(S_i)$\n",
    "    * Value function for variable actions for each state $(S)$ : $Q(a_i, S_i)$"
   ]
  },
  {
   "cell_type": "markdown",
   "metadata": {},
   "source": [
    "# The whole drama is for learning $Q(a_i, S_i)$\n",
    "\n",
    "The simplest form of representing this function is using a table. \n",
    "A table of dimension $(#states, #actions)$. Each cell in the table denotes the value of being in a state $s$ and taking an action $a$ in $s$\n",
    "\n",
    "## Frozen lake env in Gym\n",
    "To establish and learn that kind of Q-table, Frozen lake env in Gym would be best fit.\n",
    "This env is 4x4 grid, each cell can be a stable block, a hole or a goal position. \n",
    "Reward to be in any cell except goal cell is zero. Goal cell carries a reward of one.\n",
    "\n",
    "Now possible states in this env is one of the cells, so, 16.\n",
    "Similarly possible actions (left, right, top, bottom) are 4.\n",
    "Let's dive.\n"
   ]
  },
  {
   "cell_type": "code",
   "execution_count": 1,
   "metadata": {},
   "outputs": [
    {
     "name": "stderr",
     "output_type": "stream",
     "text": [
      "[2017-07-21 01:58:51,712] Making new env: FrozenLake-v0\n"
     ]
    }
   ],
   "source": [
    "import gym\n",
    "import numpy as np\n",
    "\n",
    "env = gym.make('FrozenLake-v0')"
   ]
  },
  {
   "cell_type": "code",
   "execution_count": 2,
   "metadata": {},
   "outputs": [
    {
     "name": "stdout",
     "output_type": "stream",
     "text": [
      "#states = 16\n",
      "#actions = 4\n"
     ]
    }
   ],
   "source": [
    "print \"#states =\", env.observation_space.n\n",
    "print \"#actions =\", env.action_space.n"
   ]
  },
  {
   "cell_type": "code",
   "execution_count": 21,
   "metadata": {},
   "outputs": [
    {
     "name": "stdout",
     "output_type": "stream",
     "text": [
      "Reward @ episode 100 = 0.00\n",
      "Reward @ episode 200 = 0.02\n",
      "Reward @ episode 300 = 0.04\n",
      "Reward @ episode 400 = 0.06\n",
      "Reward @ episode 500 = 0.09\n",
      "Reward @ episode 600 = 0.11\n",
      "Reward @ episode 700 = 0.14\n",
      "Reward @ episode 800 = 0.17\n",
      "Reward @ episode 900 = 0.21\n",
      "Reward @ episode 1000 = 0.24\n",
      "Reward @ episode 1100 = 0.28\n",
      "Reward @ episode 1200 = 0.31\n",
      "Reward @ episode 1300 = 0.34\n",
      "Reward @ episode 1400 = 0.37\n",
      "Reward @ episode 1500 = 0.41\n",
      "Reward @ episode 1600 = 0.45\n",
      "Reward @ episode 1700 = 0.49\n",
      "Reward @ episode 1800 = 0.52\n",
      "Reward @ episode 1900 = 0.56\n",
      "TRAINING ENDED\n"
     ]
    }
   ],
   "source": [
    "# Init Q table (Value function)\n",
    "\n",
    "Q = np.zeros([env.observation_space.n, env.action_space.n])\n",
    "\n",
    "# Now train the env by processing rewards and learn the Q function\n",
    "episodes = 2000\n",
    "learning_rate = 0.80\n",
    "discount_fact = 0.95\n",
    "rewards_over_episodes = []\n",
    "\n",
    "# Play #episode games\n",
    "for i in range(1, episodes):\n",
    "    accumulated_reward_for_episode = 0\n",
    "    done = False\n",
    "    s = env.reset()  # Reset and get default/ init state.\n",
    "    \n",
    "    for _ in range(99):\n",
    "        \n",
    "        # We are learning now, greedily pick an action while being in state `s`\n",
    "        action = np.argmax(Q[s, :] + (np.random.randn(1, env.action_space.n)*(1./(1 + i))))\n",
    "\n",
    "        # See the consequence of this action\n",
    "        new_state, reward, done, _ = env.step(action)\n",
    "        \n",
    "        # Alright, we have received reward, let's remember what earned us that amount\n",
    "        # Bellman equation & the fact that we want the updation to be steady and small\n",
    "        Q[s, action] =   Q[s, action] + learning_rate * (reward + (discount_fact * np.max(Q[new_state, :])))\n",
    "                       - learning_rate * Q[s, action]\n",
    "        \n",
    "        # Updating iteration vals\n",
    "        accumulated_reward_for_episode += reward\n",
    "        s = new_state\n",
    "        \n",
    "        # Episode ended\n",
    "        if done is True:\n",
    "            break\n",
    "            \n",
    "    rewards_over_episodes.append(accumulated_reward_for_episode)\n",
    "    if i % 100 == 0:\n",
    "        print \"Reward @ episode %d = %.2f\" % (i, sum(rewards_over_episodes)/episodes)\n",
    "    \n",
    "print \"TRAINING ENDED\"\n",
    "    "
   ]
  },
  {
   "cell_type": "code",
   "execution_count": 16,
   "metadata": {},
   "outputs": [
    {
     "name": "stdout",
     "output_type": "stream",
     "text": [
      "[[  2.43567931e-01   1.29953830e-02   1.37789988e-02   1.32270488e-02]\n",
      " [  7.30154553e-04   8.34075080e-04   3.19486029e-04   2.26955196e-01]\n",
      " [  2.92785670e-03   9.91106073e-02   4.55518449e-03   4.24503566e-03]\n",
      " [  6.06637322e-04   5.89402814e-04   0.00000000e+00   4.19002118e-02]\n",
      " [  3.60335085e-01   3.60273873e-03   8.06561456e-03   3.68616199e-03]\n",
      " [  0.00000000e+00   0.00000000e+00   0.00000000e+00   0.00000000e+00]\n",
      " [  4.28962214e-04   1.14934259e-04   5.71909935e-02   4.39082815e-06]\n",
      " [  0.00000000e+00   0.00000000e+00   0.00000000e+00   0.00000000e+00]\n",
      " [  0.00000000e+00   0.00000000e+00   5.65256390e-03   4.06607033e-01]\n",
      " [  3.66698844e-03   2.41311287e-01   0.00000000e+00   0.00000000e+00]\n",
      " [  7.74143483e-01   2.15206745e-04   0.00000000e+00   1.26652371e-04]\n",
      " [  0.00000000e+00   0.00000000e+00   0.00000000e+00   0.00000000e+00]\n",
      " [  0.00000000e+00   0.00000000e+00   0.00000000e+00   0.00000000e+00]\n",
      " [  0.00000000e+00   0.00000000e+00   7.30694621e-01   0.00000000e+00]\n",
      " [  0.00000000e+00   0.00000000e+00   1.70226393e-02   9.92924781e-01]\n",
      " [  0.00000000e+00   0.00000000e+00   0.00000000e+00   0.00000000e+00]]\n"
     ]
    }
   ],
   "source": [
    "print Q"
   ]
  },
  {
   "cell_type": "markdown",
   "metadata": {},
   "source": [
    "### All good, but what if the env is complex?\n",
    "In a way, that it has waay too many states and waaay too many possible actions?\n",
    "\n",
    "Nothing, there will be a bigger table.\n",
    "But, we have a better method to represent that kind of a big table \n",
    "\n",
    "We will train a Neuralnet to learn this Value function by feeding reward converted as target Q values.\n",
    "Let's do that."
   ]
  },
  {
   "cell_type": "markdown",
   "metadata": {},
   "source": [
    "What should be the NeuralNet(NN) architecture? \n",
    "\n",
    "In the above code, we were trying to retrieve value benifits of all possible actions given a state $(s)$. \n",
    "So, this NN should accept state as input and output values (probabilities) of taking each of the four actions.\n",
    "That means, NN will have an input layer of $(1x16)$ and output layer of $(1x4)$. \n",
    "\n",
    "Let there just be one layer in between, my hardware is too slow. "
   ]
  },
  {
   "cell_type": "code",
   "execution_count": 7,
   "metadata": {},
   "outputs": [
    {
     "name": "stderr",
     "output_type": "stream",
     "text": [
      "[2017-07-21 15:52:04,272] Making new env: FrozenLake-v0\n"
     ]
    },
    {
     "name": "stdout",
     "output_type": "stream",
     "text": [
      " Percentage completion = 17.80\n",
      "TRAINING ENDED\n"
     ]
    }
   ],
   "source": [
    "# Let's first define NN\n",
    "import tensorflow as tf\n",
    "import numpy as np\n",
    "import gym\n",
    "env = gym.make('FrozenLake-v0')\n",
    "\n",
    "# Input layer\n",
    "inputs = tf.placeholder(shape=(1, 16), dtype=tf.float32)\n",
    "\n",
    "# Sandwich layer (1, 16)\n",
    "layer_W = tf.Variable(tf.random_uniform((16, 32), 0, 0.1, dtype=tf.float32))\n",
    "layer_b = tf.Variable(tf.zeros((1, 32), dtype=tf.float32))\n",
    "layer = tf.matmul(inputs, layer_W)\n",
    "\n",
    "# Output layer\n",
    "output_W = tf.Variable(tf.random_uniform((16,4), 0, 0.1), dtype=tf.float32)\n",
    "output_b = tf.Variable(tf.zeros((1, 4), dtype=tf.float32))\n",
    "output = tf.matmul(inputs, output_W)\n",
    "Q = output\n",
    "get_action = tf.argmax(Q, 1)\n",
    "\n",
    "# Error function\n",
    "Q_target = tf.placeholder(shape=(1, 4), dtype=tf.float32)\n",
    "error = Q_target - Q\n",
    "reduced_mean_square_error = tf.reduce_sum(tf.square(error))  # loss function\n",
    "\n",
    "# Minimize loss\n",
    "optimizer = tf.train.GradientDescentOptimizer(learning_rate=0.1)\n",
    "back_propagate = optimizer.minimize(reduced_mean_square_error)\n",
    "\n",
    "\n",
    "###################################################################\n",
    "\n",
    "sess = tf.Session()\n",
    "init_global_vars = tf.global_variables_initializer()\n",
    "\n",
    "episodes = 2000\n",
    "discount_fact = 0.95\n",
    "rewards_over_episodes = []\n",
    "sess.run(init_global_vars)\n",
    "\n",
    "# Play #episode games\n",
    "for i in range(1, episodes):\n",
    "    accumulated_reward_for_episode = 0\n",
    "    done = False\n",
    "    s = env.reset()  # Reset and get default/ init state.\n",
    "    \n",
    "    for _ in range(99):\n",
    "        \n",
    "        # We are learning now, greedily pick an action while being in state `s`\n",
    "        # The following lines are that stupidity that kills your PC\n",
    "#        s_one_hot = tf.one_hot(indices=[s], depth=16)\n",
    "#        s_one_hot = sess.run(s_one_hot)\n",
    "        s_one_hot = np.zeros((1, 16))\n",
    "        s_one_hot[0, s] = 1\n",
    "        action, Q_s = sess.run([get_action, Q], {inputs: s_one_hot})\n",
    "        if np.random.rand(1) < 0.15:\n",
    "                action[0] = env.action_space.sample()\n",
    "\n",
    "        # See the consequence of this action\n",
    "        new_state, reward, done, _ = env.step(action[0])\n",
    "        # These too! \n",
    "#        env.render()\n",
    "#        new_state_one_hot = tf.one_hot(indices=[new_state], depth=16)\n",
    "#        new_state_one_hot = sess.run(new_state_one_hot)\n",
    "        new_state_one_hot = np.zeros((1, 16))\n",
    "        new_state_one_hot[0, new_state] = 1\n",
    "        # Alright, we have received reward, let's remember what earned us that amount\n",
    "        # Bellman equation & the fact that we want the updation to be steady and small\n",
    "        Q_new = sess.run(Q, {inputs: new_state_one_hot})\n",
    "        Q_targeted = Q_s\n",
    "        Q_targeted[0, action[0]] = reward + (discount_fact * np.max(Q_new))\n",
    "        sess.run(back_propagate, {Q_target: Q_targeted, inputs: s_one_hot })\n",
    "#        print sess.run(error, {Q_target: Q_targeted, inputs: s_one_hot })\n",
    "        \n",
    "        # Updating iteration vals\n",
    "        accumulated_reward_for_episode += reward\n",
    "        s = new_state\n",
    "        \n",
    "        # Episode ended\n",
    "        if done is True:\n",
    "            break\n",
    "            \n",
    "    rewards_over_episodes.append(accumulated_reward_for_episode)\n",
    "    if i % 1 == 0 and False:\n",
    "        print \"Reward @ episode %d = %.2f\" % (i, sum(rewards_over_episodes)/episodes)\n",
    "print \"Percentage completion = %.2f\" % ((sum(rewards_over_episodes) * 100.0)/ episodes)\n",
    "print \"TRAINING ENDED\"\n",
    "\n"
   ]
  },
  {
   "cell_type": "code",
   "execution_count": 9,
   "metadata": {},
   "outputs": [
    {
     "name": "stdout",
     "output_type": "stream",
     "text": [
      "  (Left)\n",
      "SFFF\n",
      "F\u001b[41mH\u001b[0mFH\n",
      "FFFH\n",
      "HFFG\n"
     ]
    },
    {
     "data": {
      "text/plain": [
       "array([[ 0.09951197,  0.12108366,  0.10376973,  0.15691705]], dtype=float32)"
      ]
     },
     "execution_count": 9,
     "metadata": {},
     "output_type": "execute_result"
    }
   ],
   "source": [
    "# Analyse what this Agent has learned\n",
    "env.render()\n",
    "sess.run(Q, {inputs: [[0, 1, 0, 0,  0, 0, 0, 0,  0, 0, 0, 0,  0, 0, 0, 0]]})"
   ]
  },
  {
   "cell_type": "code",
   "execution_count": 10,
   "metadata": {},
   "outputs": [
    {
     "data": {
      "text/plain": [
       "[<matplotlib.lines.Line2D at 0x7f988e8db210>]"
      ]
     },
     "execution_count": 10,
     "metadata": {},
     "output_type": "execute_result"
    },
    {
     "data": {
      "image/png": "[encoded data removed]",
      "text/plain": [
       "<matplotlib.figure.Figure at 0x7f9894a80390>"
      ]
     },
     "metadata": {},
     "output_type": "display_data"
    }
   ],
   "source": [
    "import matplotlib.pyplot as plt\n",
    "%matplotlib inline\n",
    "plt.plot(rewards_over_episodes)"
   ]
  },
  {
   "cell_type": "markdown",
   "metadata": {},
   "source": [
    "## TODO\n",
    "\n",
    "1. Try other architectures and see how runs-to-learn is changing \n",
    "2. Reduce exploration as we learn better \n",
    "3. Modify env.render() to print inline (Easy to visualize)"
   ]
  }
 ],
 "metadata": {
  "kernelspec": {
   "display_name": "Python 2",
   "language": "python",
   "name": "python2"
  },
  "language_info": {
   "codemirror_mode": {
    "name": "ipython",
    "version": 2
   },
   "file_extension": ".py",
   "mimetype": "text/x-python",
   "name": "python",
   "nbconvert_exporter": "python",
   "pygments_lexer": "ipython2",
   "version": "2.7.12"
  }
 },
 "nbformat": 4,
 "nbformat_minor": 2
}
