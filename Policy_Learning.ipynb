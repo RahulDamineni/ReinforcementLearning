{
 "cells": [
  {
   "cell_type": "markdown",
   "metadata": {},
   "source": [
    "<h1><center> What's Policy Learning?"
   ]
  },
  {
   "cell_type": "markdown",
   "metadata": {},
   "source": [
    "**Policy** is a function which maps current observation to an action. It is more direct way for an Agent to learn *good behaviour* by acting in the environment. The other way, **Q Learning**, learns a quantified value for being in a particular state $s$ and performing a particular action $a$. That helps in exploration, PL doesn't have that much of foresightedness since it doesn't consider long term rewards in choosing policy *(No Bellman equation)*. \n",
    "\n",
    "So, Policy Learning may be used for environments where reward is based on immediate action *(non-hysterical)*. \n",
    "\n",
    "$$\\pi(s) \\rightarrow a$$"
   ]
  },
  {
   "cell_type": "markdown",
   "metadata": {},
   "source": [
    "___"
   ]
  },
  {
   "cell_type": "markdown",
   "metadata": {
    "collapsed": true
   },
   "source": [
    "## Toy application - Part I\n",
    "\n",
    "Let's apply Policy learning to a **4-Armed Bandit problem**. 4-Armed Bandit is a slot machine with four levers. \n",
    "On pulling a lever, you might get some reward. These rewards vary for ever lever (fixed probabilities that are preprogrammed). Our goal is to find the best lever to pull in-order to maximize our total reward.\n",
    "\n",
    "**Choosing an action** is like picking a lever to pull. So, we have 4 possible actions. \n",
    "Each action should be associated with a weight. This weight determines how ofter that action will be chosen. Thus, scrutinizing policy function.\n",
    "\n",
    "**Loss function** should take reward & action into account and modify weight of action to re-establish the ground truth in Agent's knowledge base.\n",
    "\n",
    "If $A$ is reward we get (called advantage) for $\\pi$, the action we chose; \n",
    "$$loss = -\\log(\\pi) \\cdot A$$"
   ]
  },
  {
   "cell_type": "code",
   "execution_count": 24,
   "metadata": {},
   "outputs": [
    {
     "name": "stdout",
     "output_type": "stream",
     "text": [
      "TRAINING ENDED\n"
     ]
    }
   ],
   "source": [
    "import tensorflow as tf\n",
    "import numpy as np\n",
    "\n",
    "# Ground-truth about the 4 levers\n",
    "bandits = [4, 2.5, -4, 6]  # As per our reward fn., Bandit_id 2 yields max reward\n",
    "\n",
    "# Let's define reward function\n",
    "def get_reward(bandit_id):\n",
    "    \"\"\" Takes Bandit index as input and returns 1 or -1 based on pre-established probability \"\"\"\n",
    "    \n",
    "    if bandits[bandit_id] < np.random.randn():\n",
    "        \n",
    "        return 1\n",
    "    else:\n",
    "        \n",
    "        return -1\n",
    "    \n",
    "\n",
    "# Neural Agent to learn that bandits policy function\n",
    "policy = tf.Variable(np.ones([len(bandits)]))\n",
    "get_action = tf.argmax(policy, 0)\n",
    "reward = tf.placeholder(shape=1, dtype=tf.float64)\n",
    "action = tf.placeholder(shape=1, dtype=tf.int32)               \n",
    "policy_function_weight = tf.slice(policy, action, [1])  # Get the weight related to policy[action]\n",
    "loss = -tf.log(policy_function_weight) * reward\n",
    "                     \n",
    "trainer = tf.train.GradientDescentOptimizer(learning_rate=0.001)\n",
    "learn = trainer.minimize(loss)                     \n",
    "\n",
    "\n",
    "# Setting up env and training Agent\n",
    "sess = tf.Session()\n",
    "init = tf.global_variables_initializer()\n",
    "sess.run(init)\n",
    "\n",
    "episodes = 2000\n",
    "all_rewards = []\n",
    "\n",
    "\n",
    "for _ in range(episodes):\n",
    "    accumulated_reward = 0\n",
    "    action_ = sess.run(get_action)\n",
    "    \n",
    "    # Greedily pick a random action now and then <exploration>\n",
    "    if np.random.rand() < 0.2:\n",
    "        action_ = np.random.randint(4)\n",
    "        \n",
    "    reward_ = get_reward(action_)\n",
    "    \n",
    "    sess.run(learn, {action: [action_], reward: [reward_]})\n",
    "    \n",
    "    accumulated_reward += reward_\n",
    "    all_rewards.append(accumulated_reward)\n",
    "    \n",
    "    \n",
    "print \"TRAINING ENDED\"\n"
   ]
  },
  {
   "cell_type": "code",
   "execution_count": 25,
   "metadata": {},
   "outputs": [
    {
     "data": {
      "text/plain": [
       "array([ 0.90559323,  0.89560604,  2.09731758,  0.8809805 ])"
      ]
     },
     "execution_count": 25,
     "metadata": {},
     "output_type": "execute_result"
    }
   ],
   "source": [
    "# Check what the network has learned\n",
    "sess.run(policy)\n",
    "\n",
    "# Notice that 2nd bandit's policy value is the highest; which it should be\n",
    "# Also notice that, since we were exploring a bit, the other policy values aligned to their \n",
    "# respective returns with 3rd index scoring least possible value"
   ]
  },
  {
   "cell_type": "code",
   "execution_count": 23,
   "metadata": {},
   "outputs": [
    {
     "data": {
      "text/plain": [
       "[<matplotlib.lines.Line2D at 0x7ff6c53f9890>]"
      ]
     },
     "execution_count": 23,
     "metadata": {},
     "output_type": "execute_result"
    },
    {
     "data": {
      "image/png": "[encoded data removed]",
      "text/plain": [
       "<matplotlib.figure.Figure at 0x7ff6c7756890>"
      ]
     },
     "metadata": {},
     "output_type": "display_data"
    }
   ],
   "source": [
    "from matplotlib import pyplot as plt\n",
    "%matplotlib inline\n",
    "\n",
    "plt.plot(all_rewards)"
   ]
  },
  {
   "cell_type": "markdown",
   "metadata": {},
   "source": [
    "### TODO\n",
    "\n",
    "1. What happens if we randomly pick actions more often?"
   ]
  },
  {
   "cell_type": "markdown",
   "metadata": {},
   "source": [
    "____"
   ]
  },
  {
   "cell_type": "markdown",
   "metadata": {},
   "source": [
    "## Toy Application - Part II\n",
    "\n",
    "Now a simpler expansion of this problem is to include *state dependence*. \n",
    "Part I dealt with simply learning policy assuming always in default state. Part II can be extended to have multiple slot machines, each with four levers to pull and the Agent has to figure out which slot-machine it has to choose and which lever to pull among the chosen - in a way that it maximizes the total reward.\n",
    "\n"
   ]
  },
  {
   "cell_type": "code",
   "execution_count": 24,
   "metadata": {},
   "outputs": [
    {
     "name": "stdout",
     "output_type": "stream",
     "text": [
      "Training Ended\n"
     ]
    }
   ],
   "source": [
    "import tensorflow as tf\n",
    "import numpy as np\n",
    "\n",
    "class BanditEnv(object):\n",
    "    \n",
    "    def __init__(self):\n",
    "        # Ground-truth slot machine probabilites\n",
    "        self.slot_machines = [[+1, +5, +8, -1], \n",
    "                              [+2, -9, +0, -2], \n",
    "                              [-1, -1, -1, +1]]\n",
    "        \n",
    "        \n",
    "    def get_reward(self, state, action):\n",
    "        \n",
    "        if self.slot_machines[state][action] < np.random.randn():\n",
    "            return +1\n",
    "        \n",
    "        else:\n",
    "            return -1\n",
    "\n",
    "        \n",
    "# Neural Agent modelling\n",
    "\n",
    "# Agent's representation of model\n",
    "agent_env = tf.Variable(np.ones((3, 4)))\n",
    "state = tf.placeholder(dtype=tf.int32)\n",
    "action = tf.placeholder(dtype=tf.int32)\n",
    "reward = tf.placeholder(dtype=tf.float64)\n",
    "get_action = tf.argmax(agent_env)\n",
    "agent_env_weight = tf.slice(agent_env, [state, action], [1, 1])\n",
    "loss = -tf.log(agent_env_weight) * reward\n",
    "\n",
    "trainer = tf.train.GradientDescentOptimizer(learning_rate=0.01)\n",
    "learn = trainer.minimize(loss)\n",
    "        \n",
    "        \n",
    "# Training the agent\n",
    "env = BanditEnv()\n",
    "sess1 = tf.Session()\n",
    "sess1.run(tf.global_variables_initializer())\n",
    "episodes = 2000\n",
    "\n",
    "for _ in range(episodes):\n",
    "    \n",
    "    # Get started by picking a random state \n",
    "    state_ = np.random.randint(3)\n",
    "    \n",
    "    # Get action for that state and chose greedily now and then\n",
    "    action_ = sess1.run(get_action)[state_]\n",
    "    if np.random.randn() < 0.3:\n",
    "        action_ = np.random.randint(4)\n",
    "    \n",
    "    # Get reward for the duo\n",
    "    reward_ = env.get_reward(state_, action_)\n",
    "    #print sess1.run(loss, {reward: reward_, state: state_, action: action_})\n",
    "    #print sess1.run(agent_env_weight, {reward: reward_, state: state_, action: action_})\n",
    "    \n",
    "    # Digest the reward_ and update agent_env\n",
    "    sess1.run(learn, {reward: reward_, state: state_, action: action_})\n",
    "    \n",
    "print \"Training Ended\"\n",
    "    \n",
    "    "
   ]
  },
  {
   "cell_type": "code",
   "execution_count": 25,
   "metadata": {},
   "outputs": [
    {
     "data": {
      "text/plain": [
       "array([[-0.53011634, -0.38827324, -3.76474276,  1.57705525],\n",
       "       [-2.46210834,  2.87238112,  1.01450545,  1.81829078],\n",
       "       [ 1.589473  ,  1.59604155,  2.34793614, -5.75765858]])"
      ]
     },
     "execution_count": 25,
     "metadata": {},
     "output_type": "execute_result"
    }
   ],
   "source": [
    "# Check what the network has learned\n",
    "sess1.run(agent_env)"
   ]
  },
  {
   "cell_type": "markdown",
   "metadata": {},
   "source": [
    "### TODO \n",
    "\n",
    "1. See what happens if you don't greedily choose random actions once in a while"
   ]
  }
 ],
 "metadata": {
  "kernelspec": {
   "display_name": "Python 2",
   "language": "python",
   "name": "python2"
  },
  "language_info": {
   "codemirror_mode": {
    "name": "ipython",
    "version": 2
   },
   "file_extension": ".py",
   "mimetype": "text/x-python",
   "name": "python",
   "nbconvert_exporter": "python",
   "pygments_lexer": "ipython2",
   "version": "2.7.12"
  }
 },
 "nbformat": 4,
 "nbformat_minor": 2
}
