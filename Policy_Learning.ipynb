{
 "cells": [
  {
   "cell_type": "markdown",
   "metadata": {},
   "source": [
    "<h1><center> What's Policy Learning?"
   ]
  },
  {
   "cell_type": "markdown",
   "metadata": {},
   "source": [
    "**Policy** is a function which maps current observation to an action. It is more direct way for an Agent to learn *good behaviour* by acting in the environment. The other way, **Q Learning**, learns a quantified value for being in a particular state $s$ and performing a particular action $a$. That helps in exploration, PL doesn't have that much of foresightedness since it doesn't consider long term rewards in choosing policy *(No Bellman equation)*. \n",
    "\n",
    "So, Policy Learning may be used for environments where reward is based on immediate action *(non-hysterical)*. \n",
    "\n",
    "$$\\pi(s) \\rightarrow a$$"
   ]
  },
  {
   "cell_type": "code",
   "execution_count": null,
   "metadata": {
    "collapsed": true
   },
   "outputs": [],
   "source": []
  }
 ],
 "metadata": {
  "kernelspec": {
   "display_name": "Python 2",
   "language": "python",
   "name": "python2"
  },
  "language_info": {
   "codemirror_mode": {
    "name": "ipython",
    "version": 2
   },
   "file_extension": ".py",
   "mimetype": "text/x-python",
   "name": "python",
   "nbconvert_exporter": "python",
   "pygments_lexer": "ipython2",
   "version": "2.7.12"
  }
 },
 "nbformat": 4,
 "nbformat_minor": 2
}
