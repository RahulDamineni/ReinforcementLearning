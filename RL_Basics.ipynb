{
 "cells": [
  {
   "cell_type": "markdown",
   "metadata": {},
   "source": [
    "<h1><center>Fundamentals of Reinforcement Learning"
   ]
  },
  {
   "cell_type": "markdown",
   "metadata": {
    "collapsed": true
   },
   "source": [
    "## Before we start, let's learn about gym\n",
    "\n",
    "    * Gym is an OpenAI platform which provides easy access to various environments. \n",
    "    * Environment (of a game) will have attributes such as `action_space`, `observation_space` & `reward_range`\n",
    "    * We use `step()` method to advance environment when a particular action is chosen\n",
    "    * `step()` returns four outputs; observation, reward, done, info\n",
    "        > Observation is `Discrete`/ `Box` object which gives info about what state env is in currently \n",
    "        > Reward is what we achieved after action\n",
    "        > Done will be true if the env reaches its end state\n",
    "        > Info contains metadata\n",
    "        \n",
    "Read more here: https://gym.openai.com/docs \n"
   ]
  },
  {
   "cell_type": "markdown",
   "metadata": {
    "collapsed": true
   },
   "source": [
    "____________________________"
   ]
  },
  {
   "cell_type": "markdown",
   "metadata": {},
   "source": [
    "## Now a brief about RL \n",
    "\n",
    "Reinforced Learning is all about learning what chain of actions to follow to go through a certain chain of states in order to reach a final state in a way that maximizes our **total** reward\n",
    "\n",
    "### Terminology\n",
    "1. Environment\n",
    "2. Agent\n",
    "3. State\n",
    "4. Observation\n",
    "5. Action\n",
    "6. Reward\n",
    "7. Environment modelling by an Agent\n",
    "8. Policy of an Agent\n",
    "9. Value function of an Agent\n",
    "    * Value function for a fixed action ($\\pi$) for each state $(S)$ : $Q_{\\pi}(S_i)$\n",
    "    * Value function for variable actions for each state $(S)$ : $Q(a_i, S_i)$"
   ]
  }
 ],
 "metadata": {
  "kernelspec": {
   "display_name": "Python 2",
   "language": "python",
   "name": "python2"
  },
  "language_info": {
   "codemirror_mode": {
    "name": "ipython",
    "version": 2
   },
   "file_extension": ".py",
   "mimetype": "text/x-python",
   "name": "python",
   "nbconvert_exporter": "python",
   "pygments_lexer": "ipython2",
   "version": "2.7.13"
  }
 },
 "nbformat": 4,
 "nbformat_minor": 2
}
